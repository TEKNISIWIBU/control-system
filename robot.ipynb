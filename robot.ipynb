{
 "cells": [
  {
   "cell_type": "code",
   "execution_count": 2,
   "id": "0eead20a",
   "metadata": {},
   "outputs": [
    {
     "name": "stdout",
     "output_type": "stream",
     "text": [
      "Collecting sympy\n",
      "  Using cached sympy-1.14.0-py3-none-any.whl.metadata (12 kB)\n",
      "Collecting mpmath<1.4,>=1.1.0 (from sympy)\n",
      "  Using cached mpmath-1.3.0-py3-none-any.whl.metadata (8.6 kB)\n",
      "Using cached sympy-1.14.0-py3-none-any.whl (6.3 MB)\n",
      "Using cached mpmath-1.3.0-py3-none-any.whl (536 kB)\n",
      "Installing collected packages: mpmath, sympy\n",
      "Successfully installed mpmath-1.3.0 sympy-1.14.0\n",
      "Note: you may need to restart the kernel to use updated packages.\n"
     ]
    },
    {
     "name": "stderr",
     "output_type": "stream",
     "text": [
      "\n",
      "[notice] A new release of pip is available: 24.0 -> 25.2\n",
      "[notice] To update, run: C:\\Users\\ADMIN\\AppData\\Local\\Microsoft\\WindowsApps\\PythonSoftwareFoundation.Python.3.11_qbz5n2kfra8p0\\python.exe -m pip install --upgrade pip\n"
     ]
    },
    {
     "data": {
      "text/latex": [
       "$\\displaystyle \\left[\\begin{matrix}b & 2 b & 3 b\\\\0 & b & 4 b\\\\5 b & 6 b & 0\\end{matrix}\\right]$"
      ],
      "text/plain": [
       "⎡ b   2⋅b  3⋅b⎤\n",
       "⎢             ⎥\n",
       "⎢ 0    b   4⋅b⎥\n",
       "⎢             ⎥\n",
       "⎣5⋅b  6⋅b   0 ⎦"
      ]
     },
     "execution_count": 2,
     "metadata": {},
     "output_type": "execute_result"
    }
   ],
   "source": [
    "%pip install sympy\n",
    "import sympy as sp\n",
    "sp.init_printing(use_unicode=True)\n",
    "a, b, c = sp.symbols('a b c')\n",
    "\n",
    "A = sp.Matrix([[1, 2, 3], [0, 1, 4], [5, 6, 0]])\n",
    "A.det()\n",
    "A.T\n",
    "A.inv()\n",
    "A * b"
   ]
  },
  {
   "cell_type": "code",
   "execution_count": 3,
   "id": "b95d08ee",
   "metadata": {},
   "outputs": [
    {
     "name": "stdout",
     "output_type": "stream",
     "text": [
      "[[-2.5  1.5]\n",
      " [ 2.  -1. ]]\n",
      "[[2 4]\n",
      " [3 5]]\n",
      "-2.0\n",
      "[[ 6 18]\n",
      " [36 10]]\n",
      "[[33 18]\n",
      " [57 34]]\n",
      "[[33 18]\n",
      " [57 34]]\n"
     ]
    }
   ],
   "source": [
    "import numpy as np \n",
    "A = np.array([[2, 3], [4, 5]])\n",
    "B = np.array([[3, 6], [9, 2]])\n",
    "print(np.linalg.inv(A))\n",
    "print(np.transpose(A))\n",
    "print(np.linalg.det(A))\n",
    "print(A * B)  # element wise\n",
    "print(A.dot(B))  # matrix multiplication\n",
    "print(np.dot(A, B))  # matrix multiplication"
   ]
  }
 ],
 "metadata": {
  "kernelspec": {
   "display_name": "Python 3",
   "language": "python",
   "name": "python3"
  },
  "language_info": {
   "codemirror_mode": {
    "name": "ipython",
    "version": 3
   },
   "file_extension": ".py",
   "mimetype": "text/x-python",
   "name": "python",
   "nbconvert_exporter": "python",
   "pygments_lexer": "ipython3",
   "version": "3.11.9"
  }
 },
 "nbformat": 4,
 "nbformat_minor": 5
}
